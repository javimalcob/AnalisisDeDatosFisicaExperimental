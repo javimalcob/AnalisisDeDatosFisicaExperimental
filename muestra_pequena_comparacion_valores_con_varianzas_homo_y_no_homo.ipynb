{
 "cells": [
  {
   "cell_type": "code",
   "execution_count": 1,
   "id": "f2df1a7e-9012-45e3-8660-5b28c3c9f616",
   "metadata": {},
   "outputs": [],
   "source": [
    "import numpy as np\n",
    "from scipy import stats\n",
    "from scipy.stats.distributions import  t,f\n",
    "import math\n",
    "import scipy.stats"
   ]
  },
  {
   "cell_type": "markdown",
   "id": "3bf8c51b-021d-4cfb-b7e1-8c93c2b0b666",
   "metadata": {},
   "source": [
    "## ANALISIS DE DATOS PARA MUESTRAS PEQUEÑAS\n",
    "### Comparacion con valor obtenido por otro grupo o metodo experimental"
   ]
  },
  {
   "cell_type": "markdown",
   "id": "f2a97035-f1c4-49ce-b807-ab24cbc90948",
   "metadata": {},
   "source": [
    "Valor determinado x : $\\bar{x} \\pm \\frac{s_x}{\\sqrt{N_x}}$\n",
    "\n",
    "Numero de datos: $N_x$\n",
    "\n",
    "Desviacion estandar : $s_x$\n",
    "\n",
    "Grados de libertad : $\\nu_x$"
   ]
  },
  {
   "cell_type": "code",
   "execution_count": 2,
   "id": "e7df60ce-42b8-4df1-9b6c-d3f045c2f547",
   "metadata": {},
   "outputs": [
    {
     "data": {
      "text/plain": [
       "0.0009486832980505138"
      ]
     },
     "execution_count": 2,
     "metadata": {},
     "output_type": "execute_result"
    }
   ],
   "source": [
    "#Variable x\n",
    "Nx = 10  #Numero de datos medidos para x\n",
    "x_bar = 0.0594     #x promedio\n",
    "sx_bar = 0.0003    # sx del promedio\n",
    "sx = sx_bar * np.sqrt(Nx)  #desviacion estandar x\n",
    "nu_x = 8        #Grados de libertad (llenar manualmente dependiendo de donde vengan los datos)\n",
    "sx"
   ]
  },
  {
   "cell_type": "markdown",
   "id": "e1144817-fbb1-4304-936f-f088520d227b",
   "metadata": {},
   "source": [
    "Valor determinado y : $\\bar{y} \\pm \\frac{s_y}{\\sqrt{N_y}}$\n",
    "\n",
    "Numero de datos: $N_y$\n",
    "\n",
    "Desviacion estandar : $s_y$\n",
    "\n",
    "Grados de libertad: $\\nu_y$"
   ]
  },
  {
   "cell_type": "code",
   "execution_count": 3,
   "id": "0219f15e-27c9-4469-82d5-2a16c43c9d52",
   "metadata": {},
   "outputs": [
    {
     "data": {
      "text/plain": [
       "0.00469041575982343"
      ]
     },
     "execution_count": 3,
     "metadata": {},
     "output_type": "execute_result"
    }
   ],
   "source": [
    "#Variable y\n",
    "Ny = 22           #Numero de datos medidos para y\n",
    "y_bar = 0.060     #y promedio\n",
    "sy_bar = 0.001    # sy del promedio\n",
    "sy = sy_bar * np.sqrt(Ny)  #desviacion estandar y\n",
    "nu_y = 22        #Grados de libertad (llenar manualmente dependiendo de donde vengan los datos)\n",
    "sy"
   ]
  },
  {
   "cell_type": "code",
   "execution_count": null,
   "id": "c3a5f3b4-192e-4e0c-9d89-be64e56d7bea",
   "metadata": {},
   "outputs": [],
   "source": []
  },
  {
   "cell_type": "markdown",
   "id": "2b1b26ed-b119-476b-9c47-d2fd0b5ff357",
   "metadata": {},
   "source": [
    "### Prueba usando Distribucion _F_ para determinar varianzas Homogeneas o No Homogeneas "
   ]
  },
  {
   "cell_type": "markdown",
   "id": "20a98aeb-9a91-4ca0-9dbd-24d6a5b11b51",
   "metadata": {},
   "source": [
    "Prueba de hipotesis nula:\n",
    "\n",
    "$H_0: \\sigma_x^{2} = \\sigma_y^{2}  \\qquad H_a: \\sigma_x^{2}\\neq \\sigma_y^{2}$\n",
    "\n",
    "Estadistico de prueba:\n",
    "\n",
    "$f = \\frac{s_x^{2}}{s_y^{2}}$"
   ]
  },
  {
   "cell_type": "code",
   "execution_count": 4,
   "id": "860a3e61-a5dc-4c16-8e27-4835ba2aaf5a",
   "metadata": {},
   "outputs": [
    {
     "data": {
      "text/plain": [
       "0.04090909090909091"
      ]
     },
     "execution_count": 4,
     "metadata": {},
     "output_type": "execute_result"
    }
   ],
   "source": [
    "#defino estadistico de prueba\n",
    "f_p = (sx**2)/(sy**2)\n",
    "f_p"
   ]
  },
  {
   "cell_type": "markdown",
   "id": "1d32c34f-1245-4911-baef-d15b25a9409a",
   "metadata": {},
   "source": [
    "Region de Rechazo con nivel de significancia $\\alpha$ y $\\nu=N_x - 1$ grados de libertad:\n",
    "\n",
    "$RR = \\{ f \\geq F_{\\frac{\\alpha}{2}, \\nu_x, \\nu_y}  \\qquad \\text{ó} \\qquad f \\leq F_{1-\\frac{\\alpha}{2},\\nu_x, \\nu_y}\\}$"
   ]
  },
  {
   "cell_type": "code",
   "execution_count": 5,
   "id": "39475d8f-f855-4eed-9b69-e693db5a79f9",
   "metadata": {},
   "outputs": [
    {
     "name": "stdout",
     "output_type": "stream",
     "text": [
      "F_alpha/2,nx,ny:    2.8391545838698637\n",
      "F_1-alpha/2,nx,ny:  0.2518206914892646\n"
     ]
    }
   ],
   "source": [
    "alpha = 0.05  #nivel de significancia\n",
    "f_alpha = f.ppf(1-alpha/2.0, nu_x, nu_y) #F_alpha/2 , nx, ny\n",
    "f_1_alpha = f.ppf(alpha/2.0, nu_x, nu_y) #F_1-alpha/2, nx, ny\n",
    "print(\"F_alpha/2,nx,ny:   \",f_alpha)\n",
    "print(\"F_1-alpha/2,nx,ny: \",f_1_alpha)\n"
   ]
  },
  {
   "cell_type": "code",
   "execution_count": 6,
   "id": "f467f653-f474-47d4-b9d8-db28f387fe05",
   "metadata": {},
   "outputs": [
    {
     "name": "stdout",
     "output_type": "stream",
     "text": [
      "RR={f>= 2.8391545838698637 ó f<= 0.2518206914892646 }\n",
      "Estadistico de prueba f = 0.04090909090909091\n",
      "Checkear esto a ojimetro y sacar conclusion en lapiz y papel\n"
     ]
    }
   ],
   "source": [
    "print('RR={f>=',f_alpha,'ó', 'f<=',f_1_alpha, '}')\n",
    "print('Estadistico de prueba f =', f_p)\n",
    "print('Checkear esto a ojimetro y sacar conclusion en lapiz y papel')"
   ]
  },
  {
   "cell_type": "markdown",
   "id": "2ef49010-0af0-460d-ad24-0c2bacf95500",
   "metadata": {},
   "source": [
    "## Caso Varianza Homogenea"
   ]
  },
  {
   "cell_type": "markdown",
   "id": "0ba8d865-a372-4e57-8623-9a8553fa636b",
   "metadata": {},
   "source": [
    "Prueba de hipotesis nula:\n",
    "$H_0: \\mu_x -\\mu_y = 0  \\qquad H_a: \\mu_x - \\mu_y \\neq 0$\n",
    "\n",
    "Estadistico de prueba:\n",
    "$t = \\frac{\\bar{x}- \\bar{y}}{s_p  \\sqrt{\\frac{1}{n_x} + \\frac{1}{n_y}}}$\n",
    "\n",
    "Grados de Libertad:\n",
    "$\\nu = n_x + n_y - 2$\n",
    "\n",
    "$s_p^{2} = \\frac{(n_x -1)s_x^{2} + (n_y-1)s_y^{2} }{\\nu}$"
   ]
  },
  {
   "cell_type": "code",
   "execution_count": 7,
   "id": "4d86bfe9-7401-445e-8174-3de40532eca5",
   "metadata": {},
   "outputs": [],
   "source": [
    "nu = Nx + Ny - 2\n",
    "sp_2 = ((Nx-1)*sx**2 + (Ny-1)*sy**2)/nu\n",
    "t_p = (x_bar - y_bar) / (np.sqrt(sp_2) * np.sqrt((1/Nx) + (1/Ny)))"
   ]
  },
  {
   "cell_type": "code",
   "execution_count": 8,
   "id": "eadd3e74-f0fd-4007-ade8-4b2cbb37060e",
   "metadata": {},
   "outputs": [
    {
     "name": "stdout",
     "output_type": "stream",
     "text": [
      "nu = 30\n",
      "sp**2 = 1.567e-05\n",
      "t= -0.39742309703889295\n"
     ]
    }
   ],
   "source": [
    "print('nu =',nu)\n",
    "print('sp**2 =', sp_2)\n",
    "print('t=', t_p)"
   ]
  },
  {
   "cell_type": "markdown",
   "id": "af8b6a23-7941-4edd-881f-cca05c3356bf",
   "metadata": {},
   "source": [
    "Region de Rechazo con nivel de significancia $\\alpha$ y $\\nu=N_x + N_y - 2$ grados de libertad:\n",
    "\n",
    "$RR = \\{ t \\geq t_{\\frac{\\alpha}{2}, \\nu}  \\qquad \\text{ó} \\qquad t \\leq -t_{\\frac{\\alpha}{2},\\nu}\\}$"
   ]
  },
  {
   "cell_type": "code",
   "execution_count": 9,
   "id": "e97eaca5-bb77-4c30-955e-dd2a5c2cd0c7",
   "metadata": {},
   "outputs": [
    {
     "data": {
      "text/plain": [
       "2.0422724563012373"
      ]
     },
     "execution_count": 9,
     "metadata": {},
     "output_type": "execute_result"
    }
   ],
   "source": [
    "alpha = 0.05\n",
    "sT = t.ppf(1.0 - alpha/2.0, nu)\n",
    "sT"
   ]
  },
  {
   "cell_type": "code",
   "execution_count": 10,
   "id": "cabd670b-34fc-49e5-9f11-3a64786f23de",
   "metadata": {},
   "outputs": [
    {
     "name": "stdout",
     "output_type": "stream",
     "text": [
      "RR={t>= 2.0422724563012373 ó t<= -2.0422724563012373 }\n",
      "Estadistico de prueba t = -0.39742309703889295\n",
      "Checkear esto a ojimetro y sacar conclusion en lapiz y papel\n"
     ]
    }
   ],
   "source": [
    "print('RR={t>=',sT,'ó', 't<=', -1.0*sT, '}')\n",
    "print('Estadistico de prueba t =', t_p)\n",
    "print('Checkear esto a ojimetro y sacar conclusion en lapiz y papel')"
   ]
  },
  {
   "cell_type": "markdown",
   "id": "4414bd6f-5fe4-4bdb-af81-698949718c8c",
   "metadata": {},
   "source": [
    "## Caso Varianza NO Homogenea"
   ]
  },
  {
   "cell_type": "markdown",
   "id": "cb74e3c5-73be-4544-9abc-a9d79e0148cf",
   "metadata": {},
   "source": [
    "Prueba de hipotesis nula:\n",
    "$H_0: \\mu_x -\\mu_y = 0  \\qquad H_a: \\mu_x - \\mu_y \\neq 0$\n",
    "\n",
    "Estadistico de prueba:\n",
    "$t = \\frac{\\bar{x}- \\bar{y}}{\\sqrt{\\frac{s_x^{2}}{n_x} + \\frac{s_y^{2}}{n_y}}}$\n",
    "\n",
    "Grados de Libertad:\n",
    "$\\nu = \\frac{\\left({\\frac{s_x^2}{N_x}+ \\frac{s_y^{2}}{N_y}}\\right)^{2}}{\\left[\\frac{\\left( \\frac{s_x^{2}}{N_x} \\right)^{2}}{N_x - 1} + \\frac{\\left( \\frac{s_y^{2}}{N_y} \\right)^{2}}{N_y - 1}\\right]}$\n",
    "\n"
   ]
  },
  {
   "cell_type": "code",
   "execution_count": 11,
   "id": "68369975-05e5-4098-b5d3-b7b3919a9121",
   "metadata": {},
   "outputs": [],
   "source": [
    "sy = 3.16227766E-03\n",
    "nu = ((sx**2 / Nx + sy**2 / Ny)**2) / (((sx**2 / Nx)**2) / (Nx - 1) + ((sy**2 / Ny)**2) / (Ny - 1))\n",
    "t_p = (x_bar - y_bar) / (np.sqrt((sx**2/Nx) + (sy**2/Ny)))"
   ]
  },
  {
   "cell_type": "code",
   "execution_count": 12,
   "id": "dc1fe1d5-6126-4726-90dd-dfbcbf5513e8",
   "metadata": {},
   "outputs": [
    {
     "name": "stdout",
     "output_type": "stream",
     "text": [
      "nu = 27.61332727473893\n",
      "t= -0.8130816911311854\n"
     ]
    },
    {
     "data": {
      "text/plain": [
       "27"
      ]
     },
     "execution_count": 12,
     "metadata": {},
     "output_type": "execute_result"
    }
   ],
   "source": [
    "print('nu =',nu)\n",
    "print('t=', t_p)\n",
    "int(nu)"
   ]
  },
  {
   "cell_type": "markdown",
   "id": "1e88e412-963f-4f39-a84f-19f855be1724",
   "metadata": {},
   "source": [
    "Region de Rechazo con nivel de significancia $\\alpha$ y $\\nu$ grados de libertad:\n",
    "\n",
    "$RR = \\{ t \\geq t_{\\frac{\\alpha}{2}, \\nu}  \\qquad \\text{ó} \\qquad t \\leq -t_{\\frac{\\alpha}{2},\\nu}\\}$"
   ]
  },
  {
   "cell_type": "code",
   "execution_count": 13,
   "id": "1bc4da19-3ada-498d-9f9c-748d2c610b62",
   "metadata": {},
   "outputs": [
    {
     "data": {
      "text/plain": [
       "2.0518305164802833"
      ]
     },
     "execution_count": 13,
     "metadata": {},
     "output_type": "execute_result"
    }
   ],
   "source": [
    "alpha = 0.05\n",
    "sT = t.ppf(1.0 - alpha/2.0, int(nu))\n",
    "sT"
   ]
  },
  {
   "cell_type": "code",
   "execution_count": 14,
   "id": "dcc7056c-c756-4392-8dc6-ddebceff1232",
   "metadata": {},
   "outputs": [
    {
     "name": "stdout",
     "output_type": "stream",
     "text": [
      "RR={t>= 2.0518305164802833 ó t<= -2.0518305164802833 }\n",
      "Estadistico de prueba t = -0.8130816911311854\n",
      "Checkear esto a ojimetro y sacar conclusion en lapiz y papel\n"
     ]
    }
   ],
   "source": [
    "print('RR={t>=',sT,'ó', 't<=', -1.0*sT, '}')\n",
    "print('Estadistico de prueba t =', t_p)\n",
    "print('Checkear esto a ojimetro y sacar conclusion en lapiz y papel')"
   ]
  },
  {
   "cell_type": "code",
   "execution_count": null,
   "id": "b4a9c24e-81b9-4268-9e03-bd9c5e3f9fee",
   "metadata": {},
   "outputs": [],
   "source": []
  },
  {
   "cell_type": "code",
   "execution_count": null,
   "id": "048de99c-7aca-43c9-9a91-ed46c5a945aa",
   "metadata": {},
   "outputs": [],
   "source": []
  }
 ],
 "metadata": {
  "kernelspec": {
   "display_name": "Python 3 (ipykernel)",
   "language": "python",
   "name": "python3"
  },
  "language_info": {
   "codemirror_mode": {
    "name": "ipython",
    "version": 3
   },
   "file_extension": ".py",
   "mimetype": "text/x-python",
   "name": "python",
   "nbconvert_exporter": "python",
   "pygments_lexer": "ipython3",
   "version": "3.11.7"
  }
 },
 "nbformat": 4,
 "nbformat_minor": 5
}
