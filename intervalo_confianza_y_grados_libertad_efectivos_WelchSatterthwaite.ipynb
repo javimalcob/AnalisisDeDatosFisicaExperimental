{
 "cells": [
  {
   "cell_type": "code",
   "execution_count": 4,
   "id": "f2df1a7e-9012-45e3-8660-5b28c3c9f616",
   "metadata": {},
   "outputs": [],
   "source": [
    "import numpy as np\n",
    "from scipy import stats\n",
    "from scipy.stats.distributions import  t,f\n",
    "import math\n",
    "import scipy.stats"
   ]
  },
  {
   "cell_type": "markdown",
   "id": "b6e9c949-df1b-47d9-86ac-5a1fbac1451e",
   "metadata": {},
   "source": [
    "## INTERVALOS DE CONFIANZA PARA UNA CANTIDAD DETERMINADA INDIRECTAMENTE\n",
    "### Welch-Satterthwaite\n",
    "Intervalos de confianza para una cantidad $q$ determinada indirectamente y que depende de varias cantidades\n",
    "\n",
    "$$\n",
    "q = q(x_1,...,x_n)\n",
    "$$"
   ]
  },
  {
   "cell_type": "markdown",
   "id": "a1d55f17-0a38-4eb0-89c5-e10720cfaab2",
   "metadata": {},
   "source": [
    "### Ejemplo:\n",
    "$$\n",
    "\\rho(a,D,I_A) = \\frac{a\\pi D^{2}}{4I_A}\n",
    "$$\n",
    "renombremos las variables\n",
    "\n",
    "$x_1 = a$ \n",
    "\n",
    "$x_2 = D$\n",
    "\n",
    "$x_3 = I_A$\n",
    "$$\n",
    "\\implies q(x_1,x_2,x_3) = \\rho(a,D,I_A) \n",
    "$$"
   ]
  },
  {
   "cell_type": "code",
   "execution_count": 53,
   "id": "66848ba9-4d26-4f66-8657-ee6251e8f17c",
   "metadata": {},
   "outputs": [
    {
     "name": "stdout",
     "output_type": "stream",
     "text": [
      "x1= 2.245 \n",
      "sx_bar_1= 0.002 \n",
      "nu_1= 18 \n",
      "--------\n",
      "x2= 0.00034 \n",
      "sx_bar_2= 1e-05 \n",
      "nu_2= 3 \n",
      "--------\n",
      "x3= 0.17101 \n",
      "sx_bar_3= 1e-05 \n",
      "nu_3= 5 \n",
      "--------\n"
     ]
    }
   ],
   "source": [
    "#Defino las variables x1,x2,x3,....\n",
    "#------------------------------------------------------------------------\n",
    "#Variable x1, incertidumbe de x1(sx_bar_1) , grados de libertad de x1\n",
    "x1= 2.245       #a\n",
    "sx_bar_1 = 0.002 #delta_a(desviacion estandar de la media)\n",
    "nu_1 = 18\n",
    "\n",
    "print('x1=', x1,'\\nsx_bar_1=', sx_bar_1, '\\nnu_1=', nu_1,'\\n--------')\n",
    "#------------------------------------------------------------------------\n",
    "#Variable x2, incertidumbe de x2 , grados de libertad de x2\n",
    "x2= 0.34e-3    #D\n",
    "sx_bar_2 = 0.01e-3  #delta_D (desviacion estandar de la media) \n",
    "nu_2 = 3\n",
    "\n",
    "print('x2=', x2,'\\nsx_bar_2=', sx_bar_2, '\\nnu_2=', nu_2,'\\n--------')\n",
    "#------------------------------------------------------------------------\n",
    "#Variable x3, incertidumbe de x3 , grados de libertad de x3\n",
    "x3= 171.01e-3        #I_A\n",
    "sx_bar_3 = 0.01e-3   #delta_I_A (desviacion estandar de la media)\n",
    "nu_3 = 5\n",
    "\n",
    "print('x3=', x3,'\\nsx_bar_3=', sx_bar_3, '\\nnu_3=', nu_3, '\\n--------')"
   ]
  },
  {
   "cell_type": "code",
   "execution_count": 54,
   "id": "d1e3f79f-24ce-4480-a036-4ac0bec0d77b",
   "metadata": {},
   "outputs": [
    {
     "data": {
      "text/plain": [
       "1.1919075034280604e-06"
      ]
     },
     "execution_count": 54,
     "metadata": {},
     "output_type": "execute_result"
    }
   ],
   "source": [
    "#Defino la funcion q\n",
    "q = (x1 * np.pi * x2**2 )/(4*x3)\n",
    "q"
   ]
  },
  {
   "cell_type": "markdown",
   "id": "28843865-9e37-4fb6-bffd-5b5d98734659",
   "metadata": {},
   "source": [
    "La funcion $q$\n",
    "$$q(x_1,x_2,x_3) = \\rho(a,D,I_A)= \\frac{x_1\\pi x_2^{2}}{4x_3}$$"
   ]
  },
  {
   "cell_type": "code",
   "execution_count": 55,
   "id": "44c6fd1f-a923-46dd-9047-621ab67f117c",
   "metadata": {},
   "outputs": [
    {
     "name": "stdout",
     "output_type": "stream",
     "text": [
      "q = 1.1919075034280604e-06\n"
     ]
    }
   ],
   "source": [
    "#Defino la funcion q en Python:\n",
    "def q(x1,x2,x3):\n",
    "    return (x1 * np.pi * x2**2 )/(4*x3)\n",
    "    \n",
    "q = q(x1,x2,x3) #evaluo la funcion q en x1,x2,x3 y guardo el valor en q\n",
    "print('q =',q)"
   ]
  },
  {
   "cell_type": "markdown",
   "id": "e2b76233-d1d0-4a68-95cf-1b68880069a1",
   "metadata": {},
   "source": [
    "Para el caso en que $x_1,...,x_n$ no esten correlacionadas (covarianza nula), la incertidumbre $s_q$"
   ]
  },
  {
   "cell_type": "markdown",
   "id": "1e9651e5-ec11-4fe9-abd4-d608c842783d",
   "metadata": {},
   "source": [
    "$$\n",
    "s_q^{2} = c_1^{2}s_{\\bar{x}_1}^{2}+...+c_n^{2}s_{\\bar{x}_1}^{2}\n",
    "$$\n",
    "\n",
    "$c_i$ : coeficientes de sensibilidad(Derivadas parciales)"
   ]
  },
  {
   "cell_type": "markdown",
   "id": "f50c8919-9e1c-4991-bfdb-867ededa101c",
   "metadata": {},
   "source": [
    "$$\n",
    "c_i = \\frac{\\partial q(x_1,...,x_n)}{\\partial x_i} \\bigg|_{\\bar{x}_1...\\bar{x}_n}\n",
    "$$"
   ]
  },
  {
   "cell_type": "markdown",
   "id": "2cb51d81-83cf-4ee0-a7b1-84e0cd7772ff",
   "metadata": {},
   "source": [
    "Cada una de las incertidumbres $s_{\\bar{x}_i}$ esta asociada a $\\nu_i$ grados de libertad.\r"
   ]
  },
  {
   "cell_type": "markdown",
   "id": "5a2a2194-ec03-493c-9c84-cd02ca82649f",
   "metadata": {},
   "source": [
    "Para definir las derivadas parciales debemos calcularlas, recomiendo usar [Wolfram Alpha (click aquí)](https://www.wolframalpha.com) para este proposito, y es el motivo por el cual redefinimos los nombres de las variables a $x_1, x_2, ... ,x_n$ , aunque podriamos usar $x_1=x$ , $x_2=y$ , $x_3=z$ \n",
    "La funcion $q$\n",
    "$$q(x,y,z) = \\rho(a,D,I_A)= \\frac{x\\pi y^{2}}{z}$$"
   ]
  },
  {
   "attachments": {
    "6c293298-cee5-44c7-87f8-beb19cc36b3f.png": {
     "image/png": "[encoded data removed]"
    }
   },
   "cell_type": "markdown",
   "id": "8fb42deb-a4b1-4eaf-a56d-e9a839df3d3b",
   "metadata": {},
   "source": [
    "![image.png](attachment:6c293298-cee5-44c7-87f8-beb19cc36b3f.png)"
   ]
  },
  {
   "cell_type": "code",
   "execution_count": 56,
   "id": "e581e399-7b99-4f8e-8e12-e4f20537a5da",
   "metadata": {},
   "outputs": [
    {
     "name": "stdout",
     "output_type": "stream",
     "text": [
      "c1 =  5.30916482596018e-07\n",
      "c2 =  0.007011220608400355\n",
      "c3 =  -6.969811726963689e-06\n"
     ]
    }
   ],
   "source": [
    "#Definimos las funciones Derivadas Parciales coeficientes de sensibilidad \n",
    "#Derivada parcial de dq/dx1\n",
    "def c1(x1,x2,x3):\n",
    "    return (np.pi * x2**2) /(4*x3)\n",
    "c1 = c1(x1,x2,x3)  #evaluo la funcion c1 en x1,x2,x3 y guardo el valor en c1 \n",
    "print('c1 = ',c1)\n",
    "\n",
    "#Derivada parcial de dq/dx2\n",
    "def c2(x1,x2,x3):\n",
    "    return (np.pi * x1*x2) /(2*x3)\n",
    "c2 = c2(x1,x2,x3)  #evaluo la funcion c1 en x1,x2,x3 y guardo el valor en c1 \n",
    "print('c2 = ',c2)    \n",
    "\n",
    "#Derivada parcial de dq/dx3\n",
    "def c3(x1,x2,x3):\n",
    "    return -(np.pi * x1*x2**2) /(4*x3**2)\n",
    "c3 = c3(x1,x2,x3)  #evaluo la funcion c1 en x1,x2,x3 y guardo el valor en c1 \n",
    "print('c3 = ',c3)\n",
    "    "
   ]
  },
  {
   "cell_type": "markdown",
   "id": "24179a47-5260-466d-b9c1-c96c959cb10b",
   "metadata": {},
   "source": [
    "$$\n",
    "s_q^{2} = c_1^{2}s_{\\bar{x}_1}^{2}+...+c_n^{2}s_{\\bar{x}_1}^{2}\n",
    "$$"
   ]
  },
  {
   "cell_type": "code",
   "execution_count": 57,
   "id": "8730937a-b4c0-4b90-a1ef-e86f31ccdb79",
   "metadata": {},
   "outputs": [
    {
     "name": "stdout",
     "output_type": "stream",
     "text": [
      "sq2= 4.916853789039305e-15\n"
     ]
    }
   ],
   "source": [
    "sq2 = c1**2 * sx_bar_1**2 + c2**2 * sx_bar_2**2 +c3**2 * sx_bar_3**2\n",
    "print('sq2=', sq2)"
   ]
  },
  {
   "cell_type": "markdown",
   "id": "e836ab45-fcfa-47ae-b484-6dd999477bb6",
   "metadata": {},
   "source": [
    "$$\n",
    "s_q = \\sqrt{c_1^{2}s_{\\bar{x}_1}^{2}+...+c_n^{2}s_{\\bar{x}_1}^{2}}\n",
    "$$"
   ]
  },
  {
   "cell_type": "code",
   "execution_count": 58,
   "id": "9faf1ea2-2cf7-4494-8a0b-45c39e13d6c3",
   "metadata": {},
   "outputs": [
    {
     "name": "stdout",
     "output_type": "stream",
     "text": [
      "sq= 7.012028086822888e-08\n"
     ]
    }
   ],
   "source": [
    "sq = np.sqrt(sq2)\n",
    "print('sq=', sq)"
   ]
  },
  {
   "cell_type": "markdown",
   "id": "028171c5-e9d7-4c85-a6d3-33822406661a",
   "metadata": {},
   "source": [
    "### Formula de Welch-Satterthwaite\n",
    "$$\n",
    "\\nu_{ef} = \\frac{s_q^{4}}{\\frac{c_1^{4}s_{\\bar{x}_1}^{4}}{\\nu_1} + \\frac{c_2^{4}s_{\\bar{x}_2}^{4}}{\\nu_2}+...+ \\frac{c_n^{4}s_{\\bar{x}_n}^{4}}{\\nu_1}}\n",
    "$$"
   ]
  },
  {
   "cell_type": "markdown",
   "id": "8e44a33f-db92-41b5-b603-4cf1d031ae74",
   "metadata": {},
   "source": [
    "Para nuestro ejemplo y con covarianza nula:\n",
    "$$\n",
    "\\nu_{ef} = \\frac{s_q^{4}}{\\frac{c_1^{4}s_{\\bar{x}_1}^{4}}{\\nu_1} + \\frac{c_2^{4}s_{\\bar{x}_2}^{4}}{\\nu_2}+ \\frac{c_3^{4}s_{\\bar{x}_3}^{4}}{\\nu_3}}\n",
    "$$"
   ]
  },
  {
   "cell_type": "code",
   "execution_count": 59,
   "id": "7d5c9e01-4085-4134-a33f-b1e075ea5061",
   "metadata": {},
   "outputs": [
    {
     "name": "stdout",
     "output_type": "stream",
     "text": [
      "vef= 3.001382245854698\n",
      "grados de libertad efectivos vef(redondeado a entero) = 3\n"
     ]
    }
   ],
   "source": [
    "#Grados de libertad efectivos:\n",
    "nu_ef = sq**4/(((c1**4*sx_bar_1**4)/nu_1) + ((c2**4*sx_bar_2**4)/nu_2) + ((c3**4*sx_bar_3**4)/nu_3))\n",
    "print('vef=', nu_ef)\n",
    "print('grados de libertad efectivos vef(redondeado a entero) =', int(nu_ef))"
   ]
  },
  {
   "cell_type": "markdown",
   "id": "d0978ebf-0b7a-479a-bc00-4d4c6e96c23e",
   "metadata": {},
   "source": [
    "Conocidos los grafos de libertad efectivos $\\nu_{ef}$ podemos calcular el intervalo de confianza asociado a $q$ , el cual para un nivel de significancia $\\alpha$ esta dado por:\n",
    "    $$\\bar{q} \\pm t_{\\frac{\\alpha}{2}, \\nu_{ef}}s_q$$"
   ]
  },
  {
   "cell_type": "code",
   "execution_count": 60,
   "id": "2c51071d-d231-4008-9723-a93caafec65b",
   "metadata": {},
   "outputs": [
    {
     "name": "stdout",
     "output_type": "stream",
     "text": [
      "alpha =  0.05\n",
      "t_(alpha/2, nu_ef) =  3.181617326686992\n"
     ]
    }
   ],
   "source": [
    "# Defino nivel alpha, t_(alpha/2, nu_ef)\n",
    "alpha = 0.05\n",
    "print('alpha = ', alpha)\n",
    "sT = t.ppf(1.0 - alpha/2.0, nu_ef) #t  de Student\n",
    "print('t_(alpha/2, nu_ef) = ', sT)"
   ]
  },
  {
   "cell_type": "code",
   "execution_count": 61,
   "id": "8c85af7f-af45-48f4-a604-5d91e2eefebb",
   "metadata": {},
   "outputs": [
    {
     "name": "stdout",
     "output_type": "stream",
     "text": [
      "q = 1.1919075034280604e-06 \n",
      "t*sq= 2.2309590056251538e-07\n",
      "------------------------------------------------------\n",
      "Intervalo de confianza al 95.0%:\n",
      "q: 1.192e-06 ± 2.231e-07\n"
     ]
    }
   ],
   "source": [
    "t_sq = sT*sq\n",
    "print('q =',q, '\\nt*sq=', t_sq)\n",
    "print('------------------------------------------------------')\n",
    "print('Intervalo de confianza al '+str((1-alpha)*100)+'%:')\n",
    "print('q: {:5.3e} ± {:5.3e}'.format(q , t_sq))"
   ]
  },
  {
   "cell_type": "markdown",
   "id": "cbc165cf-ce8b-4e8e-aa26-f6f4d84fc9c6",
   "metadata": {},
   "source": [
    "### FIN"
   ]
  }
 ],
 "metadata": {
  "kernelspec": {
   "display_name": "Python 3 (ipykernel)",
   "language": "python",
   "name": "python3"
  },
  "language_info": {
   "codemirror_mode": {
    "name": "ipython",
    "version": 3
   },
   "file_extension": ".py",
   "mimetype": "text/x-python",
   "name": "python",
   "nbconvert_exporter": "python",
   "pygments_lexer": "ipython3",
   "version": "3.11.7"
  }
 },
 "nbformat": 4,
 "nbformat_minor": 5
}
