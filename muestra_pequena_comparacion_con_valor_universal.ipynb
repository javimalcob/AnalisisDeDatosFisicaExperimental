{
 "cells": [
  {
   "cell_type": "code",
   "execution_count": 40,
   "id": "f2df1a7e-9012-45e3-8660-5b28c3c9f616",
   "metadata": {},
   "outputs": [],
   "source": [
    "import numpy as np\n",
    "from scipy import stats\n",
    "from scipy.stats.distributions import  t\n",
    "import math"
   ]
  },
  {
   "cell_type": "markdown",
   "id": "3bf8c51b-021d-4cfb-b7e1-8c93c2b0b666",
   "metadata": {},
   "source": [
    "## ANALISIS DE DATOS PARA MUESTRAS PEQUEÑAS"
   ]
  },
  {
   "cell_type": "markdown",
   "id": "bee7e94a-88bd-4e32-a5e0-08cd2a305bec",
   "metadata": {},
   "source": [
    "Valor determinado : $\\bar{x} \\pm s_\\bar{x}$\n",
    "\n",
    "Valor universal : $\\mu_0$"
   ]
  },
  {
   "cell_type": "code",
   "execution_count": 44,
   "id": "e93c625f-cb0f-4ab1-b2b6-4cdf33a5c5c0",
   "metadata": {},
   "outputs": [],
   "source": [
    "#Definicion de variables:\n",
    "x_bar = 0.0594     #x promedio\n",
    "sx_bar = 0.0003    # sx del promedio\n",
    "Nx = 10            #Numero de datos medidos\n",
    "nu_x = Nx-1        #Grados de libertad para esta prueba\n",
    "u0 = 0.060         # Valor universal"
   ]
  },
  {
   "cell_type": "markdown",
   "id": "20a98aeb-9a91-4ca0-9dbd-24d6a5b11b51",
   "metadata": {},
   "source": [
    "Prueba de hipotesis nula:\n",
    "\n",
    "$H_0: \\mu = \\mu_0  \\qquad H_a: \\mu \\neq \\mu_0$\n",
    "\n",
    "Estadistico de prueba:\n",
    "\n",
    "$t = \\frac{\\bar{x}- \\mu_0}{s_\\bar{x}}$"
   ]
  },
  {
   "cell_type": "code",
   "execution_count": 45,
   "id": "860a3e61-a5dc-4c16-8e27-4835ba2aaf5a",
   "metadata": {},
   "outputs": [
    {
     "data": {
      "text/plain": [
       "-1.999999999999988"
      ]
     },
     "execution_count": 45,
     "metadata": {},
     "output_type": "execute_result"
    }
   ],
   "source": [
    "#defino estadistico de prueba\n",
    "t_p = (x_bar-u0)/sx_bar\n",
    "t_p"
   ]
  },
  {
   "cell_type": "markdown",
   "id": "1d32c34f-1245-4911-baef-d15b25a9409a",
   "metadata": {},
   "source": [
    "Region de Rechazo con nivel de significancia $\\alpha$ y $\\nu=N_x - 1$ grados de libertad:\n",
    "\n",
    "$RR = \\{ t \\geq t_{\\frac{\\alpha}{2}, \\nu}  \\qquad \\text{ó} \\qquad t \\leq -t_{\\frac{\\alpha}{2},\\nu}\\}$"
   ]
  },
  {
   "cell_type": "code",
   "execution_count": 47,
   "id": "39475d8f-f855-4eed-9b69-e693db5a79f9",
   "metadata": {},
   "outputs": [
    {
     "data": {
      "text/plain": [
       "2.2621571627409915"
      ]
     },
     "execution_count": 47,
     "metadata": {},
     "output_type": "execute_result"
    }
   ],
   "source": [
    "alpha = 0.05  #nivel de significancia\n",
    "sT = t.ppf(1.0 - alpha/2.0, nu_x)\n",
    "sT"
   ]
  },
  {
   "cell_type": "code",
   "execution_count": 51,
   "id": "f467f653-f474-47d4-b9d8-db28f387fe05",
   "metadata": {},
   "outputs": [
    {
     "name": "stdout",
     "output_type": "stream",
     "text": [
      "RR={t>= 2.2621571627409915 ó t<= -2.2621571627409915 }\n",
      "Estadistico de prueba t = -1.999999999999988\n",
      "Checkear esto a ojimetro y sacar conclusion en lapiz y papel\n"
     ]
    }
   ],
   "source": [
    "print('RR={t>=',sT,'ó', 't<=', -1.0*sT, '}')\n",
    "print('Estadistico de prueba t =', t_p)\n",
    "print('Checkear esto a ojimetro y sacar conclusion en lapiz y papel')"
   ]
  },
  {
   "cell_type": "code",
   "execution_count": null,
   "id": "31e10427-20c2-4e29-8783-83bc640bec5e",
   "metadata": {},
   "outputs": [],
   "source": []
  }
 ],
 "metadata": {
  "kernelspec": {
   "display_name": "Python 3 (ipykernel)",
   "language": "python",
   "name": "python3"
  },
  "language_info": {
   "codemirror_mode": {
    "name": "ipython",
    "version": 3
   },
   "file_extension": ".py",
   "mimetype": "text/x-python",
   "name": "python",
   "nbconvert_exporter": "python",
   "pygments_lexer": "ipython3",
   "version": "3.11.7"
  }
 },
 "nbformat": 4,
 "nbformat_minor": 5
}
